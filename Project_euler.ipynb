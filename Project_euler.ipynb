{
  "nbformat": 4,
  "nbformat_minor": 0,
  "metadata": {
    "colab": {
      "name": "Project_euler.ipynb",
      "provenance": [],
      "collapsed_sections": [],
      "authorship_tag": "ABX9TyP15BKOSzMvTTnCRa6b4vFP"
    },
    "kernelspec": {
      "display_name": "Python 3",
      "name": "python3"
    },
    "language_info": {
      "name": "python"
    }
  },
  "cells": [
    {
      "cell_type": "code",
      "metadata": {
        "colab": {
          "base_uri": "https://localhost:8080/"
        },
        "id": "eLO7DFb_nOxH",
        "outputId": "31ffcf2e-1e58-4671-e6f6-51773b53a799"
      },
      "source": [
        "#Problem 1:sum of multiples of 3 and 5 below 1000\n",
        "x=0\n",
        "y=list()\n",
        "while True :\n",
        "  if x==999:\n",
        "    break\n",
        "  x=x+1\n",
        "  y.append(x)\n",
        "  y.sort(reverse=True)\n",
        "z=list()\n",
        "for i in range(0,1000):\n",
        "  if i%3==0 or i%5==0:\n",
        "    z.append(i)\n",
        "print(sum(z))\n",
        "\n",
        "\n"
      ],
      "execution_count": 1,
      "outputs": [
        {
          "output_type": "stream",
          "text": [
            "233168\n"
          ],
          "name": "stdout"
        }
      ]
    },
    {
      "cell_type": "code",
      "metadata": {
        "colab": {
          "base_uri": "https://localhost:8080/"
        },
        "id": "haNywWAKC7ws",
        "outputId": "ab2609aa-a880-4b26-8692-4e26bd8f727e"
      },
      "source": [
        "#Problem 1:sum of multiples of 3 and 5 below 1000\n",
        "z=list()\n",
        "for i in range(0,1000):\n",
        "  if i%3==0 or i%5==0:\n",
        "    z.append(i)\n",
        "print(sum(z))\n"
      ],
      "execution_count": 2,
      "outputs": [
        {
          "output_type": "stream",
          "text": [
            "233168\n"
          ],
          "name": "stdout"
        }
      ]
    },
    {
      "cell_type": "code",
      "metadata": {
        "id": "H8JjmVZ8nYbY",
        "colab": {
          "base_uri": "https://localhost:8080/"
        },
        "outputId": "7a177462-cb18-4626-8f89-413deeb8207b"
      },
      "source": [
        "#definning a fibbonaci function : sum of even numbers in series\n",
        "def fibo(n):\n",
        "  a,b=1,2\n",
        "  sum=0\n",
        "  while a<n:\n",
        "    if a%2==0:\n",
        "      sum+=a\n",
        "    a,b=b,a+b\n",
        "  print(sum)\n",
        "#new list to append only even numbers\n",
        "fibo(4000000)"
      ],
      "execution_count": 3,
      "outputs": [
        {
          "output_type": "stream",
          "text": [
            "4613732\n"
          ],
          "name": "stdout"
        }
      ]
    },
    {
      "cell_type": "code",
      "metadata": {
        "id": "3c25zZBenYez",
        "colab": {
          "base_uri": "https://localhost:8080/"
        },
        "outputId": "f7f3fc13-1cb2-441d-ba08-13b5bd37c306"
      },
      "source": [
        "#maximum prime factor of a number\n",
        "import math\n",
        "def maxprimefactor(n):\n",
        "  for i in range(3,int(math.sqrt(n))+1):\n",
        "    while n%i==0:      \n",
        "      maxprime=i\n",
        "      n=n/i\n",
        "  return(maxprime)\n",
        "maxprimefactor(600851475143)"
      ],
      "execution_count": 4,
      "outputs": [
        {
          "output_type": "execute_result",
          "data": {
            "text/plain": [
              "6857"
            ]
          },
          "metadata": {
            "tags": []
          },
          "execution_count": 4
        }
      ]
    },
    {
      "cell_type": "code",
      "metadata": {
        "id": "Ak1Fr2u8nYif"
      },
      "source": [
        "#largest palindrome number as product of three digit numbers\n"
      ],
      "execution_count": 5,
      "outputs": []
    },
    {
      "cell_type": "code",
      "metadata": {
        "id": "h4pBXmsfC6Th"
      },
      "source": [
        ""
      ],
      "execution_count": 5,
      "outputs": []
    },
    {
      "cell_type": "code",
      "metadata": {
        "id": "NKj2yDHmnYqn"
      },
      "source": [
        ""
      ],
      "execution_count": 5,
      "outputs": []
    },
    {
      "cell_type": "code",
      "metadata": {
        "id": "hIO8DAUsnYuT"
      },
      "source": [
        ""
      ],
      "execution_count": 5,
      "outputs": []
    },
    {
      "cell_type": "code",
      "metadata": {
        "id": "32WbOXV-nYyq"
      },
      "source": [
        ""
      ],
      "execution_count": 5,
      "outputs": []
    },
    {
      "cell_type": "code",
      "metadata": {
        "id": "yF5ZMizonY2O"
      },
      "source": [
        ""
      ],
      "execution_count": 5,
      "outputs": []
    },
    {
      "cell_type": "code",
      "metadata": {
        "id": "4NbArbLFnY5o"
      },
      "source": [
        ""
      ],
      "execution_count": 5,
      "outputs": []
    },
    {
      "cell_type": "code",
      "metadata": {
        "id": "n5u9s4PWnY9h"
      },
      "source": [
        ""
      ],
      "execution_count": 5,
      "outputs": []
    },
    {
      "cell_type": "code",
      "metadata": {
        "id": "3oM-SHk_nZBe"
      },
      "source": [
        ""
      ],
      "execution_count": 5,
      "outputs": []
    },
    {
      "cell_type": "code",
      "metadata": {
        "id": "kZXCiaz6nZFX"
      },
      "source": [
        ""
      ],
      "execution_count": 5,
      "outputs": []
    },
    {
      "cell_type": "code",
      "metadata": {
        "id": "L9K90dt0nZJa"
      },
      "source": [
        ""
      ],
      "execution_count": 5,
      "outputs": []
    },
    {
      "cell_type": "code",
      "metadata": {
        "id": "HVYK2GMvnZOK"
      },
      "source": [
        ""
      ],
      "execution_count": 5,
      "outputs": []
    },
    {
      "cell_type": "code",
      "metadata": {
        "id": "0KRR63kSnZR5"
      },
      "source": [
        ""
      ],
      "execution_count": 5,
      "outputs": []
    },
    {
      "cell_type": "code",
      "metadata": {
        "id": "Ig8vhDGjnZXb"
      },
      "source": [
        ""
      ],
      "execution_count": 5,
      "outputs": []
    },
    {
      "cell_type": "code",
      "metadata": {
        "id": "uQpCEzXPnZb2"
      },
      "source": [
        ""
      ],
      "execution_count": 5,
      "outputs": []
    },
    {
      "cell_type": "code",
      "metadata": {
        "id": "pJJ7KweznZf6"
      },
      "source": [
        ""
      ],
      "execution_count": 5,
      "outputs": []
    },
    {
      "cell_type": "code",
      "metadata": {
        "id": "mpjGww5enZkc"
      },
      "source": [
        ""
      ],
      "execution_count": 5,
      "outputs": []
    },
    {
      "cell_type": "code",
      "metadata": {
        "id": "Yo2NKRX6nZtY"
      },
      "source": [
        ""
      ],
      "execution_count": 5,
      "outputs": []
    }
  ]
}